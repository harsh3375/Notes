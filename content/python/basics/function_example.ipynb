{
 "cells": [
  {
   "cell_type": "raw",
   "metadata": {},
   "source": [
    "---\n",
    "title: \"Function Example\"\n",
    "author: \"Chris Albon\"\n",
    "date: 2018-12-16T11:53:49-07:00\n",
    "description: \"How to create a best practice function in Python.\"\n",
    "type: technical_note\n",
    "draft: false\n",
    "---"
   ]
  },
  {
   "cell_type": "markdown",
   "metadata": {},
   "source": [
    "There are many features to use with functions in Python from docstrings to type annotation to naming conventions. This is my version of a best practice function in Python.\n",
    "\n",
    "This function uses [numpydoc docstring format](https://numpydoc.readthedocs.io/en/latest/format.html) and [typing hinting](https://docs.python.org/3/library/typing.html)."
   ]
  },
  {
   "cell_type": "markdown",
   "metadata": {},
   "source": [
    "## Create Function"
   ]
  },
  {
   "cell_type": "code",
   "execution_count": 1,
   "metadata": {},
   "outputs": [],
   "source": [
    "# Define a function called word_count that takes in a argument \n",
    "# called document is a string and outputs an integer.\n",
    "def word_count(document: str) -> int:\n",
    "    \"\"\"Counts the number of words in a string.\n",
    "    \n",
    "    The purpose of this function is to count the number of words \n",
    "    (as defined by separation by spaces) in any string.\n",
    "    \n",
    "    Parameters\n",
    "    ----------\n",
    "    document : str\n",
    "        A string representing a single document.\n",
    "    \n",
    "    Returns\n",
    "    -------\n",
    "    words : int\n",
    "        The number of words in `document`\n",
    "        \n",
    "    Raises\n",
    "    ------\n",
    "    ValueError\n",
    "        If `words` contains zero words, an error is raised to help the user.\n",
    "        \n",
    "    \"\"\"\n",
    "    \n",
    "    # Split document by spaces and count the number of elements\n",
    "    # in that list\n",
    "    words = len(document.split()) \n",
    "    \n",
    "    # If there are zero words,\n",
    "    if words == 0:\n",
    "        # raise an error\n",
    "        raise ValueError('`words` must contain at least one word')\n",
    "    \n",
    "    # Return word count\n",
    "    return words"
   ]
  },
  {
   "cell_type": "markdown",
   "metadata": {},
   "source": [
    "## Run Function"
   ]
  },
  {
   "cell_type": "code",
   "execution_count": 2,
   "metadata": {},
   "outputs": [
    {
     "data": {
      "text/plain": [
       "15"
      ]
     },
     "execution_count": 2,
     "metadata": {},
     "output_type": "execute_result"
    }
   ],
   "source": [
    "# Create a string\n",
    "hemingway_quote = \"But man is not made for defeat. A man can be destroyed but not defeated.\"\n",
    "\n",
    "# Run word_count function\n",
    "word_count(hemingway_quote)"
   ]
  }
 ],
 "metadata": {
  "kernelspec": {
   "display_name": "Python 3",
   "language": "python",
   "name": "python3"
  },
  "language_info": {
   "codemirror_mode": {
    "name": "ipython",
    "version": 3
   },
   "file_extension": ".py",
   "mimetype": "text/x-python",
   "name": "python",
   "nbconvert_exporter": "python",
   "pygments_lexer": "ipython3",
   "version": "3.7.5"
  }
 },
 "nbformat": 4,
 "nbformat_minor": 2
}
