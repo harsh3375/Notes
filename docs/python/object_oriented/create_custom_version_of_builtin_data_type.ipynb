{
 "cells": [
  {
   "cell_type": "raw",
   "metadata": {},
   "source": [
    "---\n",
    "title: \"Customize Built-in Data Types\"\n",
    "author: \"Chris Albon\"\n",
    "date: 2018-12-16T11:53:49-07:00\n",
    "description: \"How to create  object oriented programming in Python.\"\n",
    "type: technical_note\n",
    "draft: false\n",
    "---"
   ]
  },
  {
   "cell_type": "markdown",
   "metadata": {},
   "source": [
    "This is a toy example of how we can extending a built-in data type (i.e. a class) in Python to add additional functionality."
   ]
  },
  {
   "cell_type": "markdown",
   "metadata": {},
   "source": [
    "## Create New Class From `list`"
   ]
  },
  {
   "cell_type": "code",
   "execution_count": 1,
   "metadata": {},
   "outputs": [],
   "source": [
    "# Create a class that inherits from the built-in list class\n",
    "class CapitalizedList(list):\n",
    "    \n",
    "    # Create a method called capitalize\n",
    "    def capitalize(self):\n",
    "        \n",
    "        # Create a list\n",
    "        capitalized_list = []\n",
    "        \n",
    "        # For each element in the instance\n",
    "        for element in self:\n",
    "            # Uppercase the string and append to the capitalized list\n",
    "            capitalized_list.append(element.upper())\n",
    "        \n",
    "        # Return the capitalized list\n",
    "        return capitalized_list\n",
    "        "
   ]
  },
  {
   "cell_type": "markdown",
   "metadata": {},
   "source": [
    "## Create Instance Of New Class"
   ]
  },
  {
   "cell_type": "code",
   "execution_count": 2,
   "metadata": {},
   "outputs": [],
   "source": [
    "capitalized_list = CapitalizedList()"
   ]
  },
  {
   "cell_type": "markdown",
   "metadata": {},
   "source": [
    "## Add Elements To New Class"
   ]
  },
  {
   "cell_type": "code",
   "execution_count": 3,
   "metadata": {},
   "outputs": [],
   "source": [
    "capitalized_list.append('bob')\n",
    "capitalized_list.append('sarah')\n",
    "capitalized_list.append('miller')"
   ]
  },
  {
   "cell_type": "markdown",
   "metadata": {},
   "source": [
    "## View Capitalized List Without Running `capitalize` Method"
   ]
  },
  {
   "cell_type": "code",
   "execution_count": 4,
   "metadata": {},
   "outputs": [
    {
     "data": {
      "text/plain": [
       "['bob', 'sarah', 'miller']"
      ]
     },
     "execution_count": 4,
     "metadata": {},
     "output_type": "execute_result"
    }
   ],
   "source": [
    "capitalized_list"
   ]
  },
  {
   "cell_type": "markdown",
   "metadata": {},
   "source": [
    "## View Capitalized List With Running `capitalize` Method"
   ]
  },
  {
   "cell_type": "code",
   "execution_count": 5,
   "metadata": {},
   "outputs": [
    {
     "data": {
      "text/plain": [
       "['BOB', 'SARAH', 'MILLER']"
      ]
     },
     "execution_count": 5,
     "metadata": {},
     "output_type": "execute_result"
    }
   ],
   "source": [
    "capitalized_list.capitalize()"
   ]
  }
 ],
 "metadata": {
  "kernelspec": {
   "display_name": "Python 3",
   "language": "python",
   "name": "python3"
  },
  "language_info": {
   "codemirror_mode": {
    "name": "ipython",
    "version": 3
   },
   "file_extension": ".py",
   "mimetype": "text/x-python",
   "name": "python",
   "nbconvert_exporter": "python",
   "pygments_lexer": "ipython3",
   "version": "3.7.5"
  }
 },
 "nbformat": 4,
 "nbformat_minor": 2
}
